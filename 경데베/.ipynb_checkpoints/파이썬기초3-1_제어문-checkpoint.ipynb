{
 "cells": [
  {
   "cell_type": "markdown",
   "metadata": {},
   "source": [
    "# 파이선 기초3\n",
    "## 2. while문"
   ]
  },
  {
   "cell_type": "markdown",
   "metadata": {},
   "source": [
    "### 기본구조\n",
    "- 반복해서 사용할 때"
   ]
  },
  {
   "cell_type": "code",
   "execution_count": null,
   "metadata": {},
   "outputs": [],
   "source": [
    "while <조건문>:\n",
    "    <수행할 문장1>\n",
    "    <수행할 문장2>"
   ]
  },
  {
   "cell_type": "code",
   "execution_count": 1,
   "metadata": {},
   "outputs": [
    {
     "name": "stdout",
     "output_type": "stream",
     "text": [
      "1 번 찍었습니다.\n",
      "2 번 찍었습니다.\n",
      "3 번 찍었습니다.\n",
      "4 번 찍었습니다.\n",
      "5 번 찍었습니다.\n",
      "6 번 찍었습니다.\n",
      "7 번 찍었습니다.\n",
      "8 번 찍었습니다.\n",
      "9 번 찍었습니다.\n",
      "10 번 찍었습니다.\n",
      "나무가 넘어갑니다.\n"
     ]
    }
   ],
   "source": [
    "# 열번찍어 안넘어 가는 나무 없다\n",
    "count = 0  # 숫자를 0부터 세기 시작\n",
    "while count < 10:\n",
    "    count = count + 1\n",
    "    # 1-9번은 계속 나무를 찍자\n",
    "    print(\"{count} 번 찍었습니다.\" .format(count=count))\n",
    "    # 열번 찍으면 나무 넘어가게\n",
    "    if count == 10:\n",
    "        print(\"나무가 넘어갑니다.\")"
   ]
  },
  {
   "cell_type": "markdown",
   "metadata": {},
   "source": [
    "### 사용자 선택 화면 만들기"
   ]
  },
  {
   "cell_type": "code",
   "execution_count": 2,
   "metadata": {},
   "outputs": [],
   "source": [
    "prompt = \"\"\"\n",
    "1. 추가\n",
    "2. 삭제\n",
    "3. 리스트\n",
    "4. 나가기\n",
    "\"\"\""
   ]
  },
  {
   "cell_type": "code",
   "execution_count": 3,
   "metadata": {},
   "outputs": [
    {
     "name": "stdout",
     "output_type": "stream",
     "text": [
      "\n",
      "1. 추가\n",
      "2. 삭제\n",
      "3. 리스트\n",
      "4. 나가기\n",
      "\n"
     ]
    }
   ],
   "source": [
    "print(prompt)"
   ]
  },
  {
   "cell_type": "code",
   "execution_count": 4,
   "metadata": {},
   "outputs": [
    {
     "name": "stdout",
     "output_type": "stream",
     "text": [
      "\n",
      "1. 추가\n",
      "2. 삭제\n",
      "3. 리스트\n",
      "4. 나가기\n",
      "\n",
      "\n",
      "1. 추가\n",
      "2. 삭제\n",
      "3. 리스트\n",
      "4. 나가기\n",
      "\n"
     ]
    }
   ],
   "source": [
    "# 위 화면을  무한재생시킴.\n",
    "number = 0\n",
    "while number !=4: #4를 안누른 동안에 무한재생\n",
    "    print(prompt)\n",
    "    number = int(input())"
   ]
  },
  {
   "cell_type": "markdown",
   "metadata": {},
   "source": [
    "### while문 빠져나가기\n",
    "- break를 쓰면 강제로 멈춘다."
   ]
  },
  {
   "cell_type": "code",
   "execution_count": 5,
   "metadata": {},
   "outputs": [
    {
     "name": "stdout",
     "output_type": "stream",
     "text": [
      "커피 나온다.\n",
      "커피 나온다.\n",
      "커피 나온다.\n",
      "커피 나온다.\n",
      "커피 나온다.\n",
      "커피 나온다.\n",
      "커피 나온다.\n",
      "커피 나온다.\n",
      "커피 나온다.\n",
      "커피 나온다.\n",
      "커피가 없습니다.\n"
     ]
    }
   ],
   "source": [
    "coffee = 10 # 자판기 커피 제고\n",
    "money = 300 # 나한테 300원 있음\n",
    "while money:\n",
    "    print(\"커피 나온다.\")\n",
    "    coffee = coffee - 1 #커피 제고 감소\n",
    "    if not coffee:\n",
    "            print(\"커피가 없습니다.\")\n",
    "            break"
   ]
  },
  {
   "cell_type": "markdown",
   "metadata": {},
   "source": [
    "##조건에 안맞는 경우 처음으로 돌아가기\n",
    "- continue"
   ]
  },
  {
   "cell_type": "code",
   "execution_count": 9,
   "metadata": {},
   "outputs": [
    {
     "name": "stdout",
     "output_type": "stream",
     "text": [
      "1\n",
      "3\n",
      "5\n",
      "7\n",
      "9\n"
     ]
    }
   ],
   "source": [
    "# 홀수 판별 프로그램\n",
    "a = 0\n",
    "while a < 10:\n",
    "    a = a + 1\n",
    "    if a % 2  == 0: continue\n",
    "    print(a)"
   ]
  },
  {
   "cell_type": "code",
   "execution_count": 7,
   "metadata": {},
   "outputs": [
    {
     "data": {
      "text/plain": [
       "1"
      ]
     },
     "execution_count": 7,
     "metadata": {},
     "output_type": "execute_result"
    }
   ],
   "source": [
    "3 % 2"
   ]
  },
  {
   "cell_type": "code",
   "execution_count": 8,
   "metadata": {},
   "outputs": [
    {
     "data": {
      "text/plain": [
       "0"
      ]
     },
     "execution_count": 8,
     "metadata": {},
     "output_type": "execute_result"
    }
   ],
   "source": [
    "4 % 2"
   ]
  },
  {
   "cell_type": "markdown",
   "metadata": {},
   "source": [
    "## 3. for문\n",
    "- while문과 비슷한 반복문인데, 좀 더 직관적임"
   ]
  },
  {
   "cell_type": "code",
   "execution_count": null,
   "metadata": {},
   "outputs": [],
   "source": [
    "for 변수 in 리스트 or 튜플 or 문자열:\n",
    "    수행할 문자1\n",
    "    수행할 문장2"
   ]
  },
  {
   "cell_type": "code",
   "execution_count": 10,
   "metadata": {},
   "outputs": [
    {
     "name": "stdout",
     "output_type": "stream",
     "text": [
      "one\n",
      "two\n",
      "three\n"
     ]
    }
   ],
   "source": [
    "test_list = ['one', 'two', 'three']\n",
    "for i in test_list:\n",
    "    print(i) "
   ]
  },
  {
   "cell_type": "markdown",
   "metadata": {},
   "source": [
    "## for문 응용"
   ]
  },
  {
   "cell_type": "code",
   "execution_count": 15,
   "metadata": {},
   "outputs": [
    {
     "name": "stdout",
     "output_type": "stream",
     "text": [
      "합격!\n",
      "불합격!\n",
      "합격!\n",
      "불합격!\n",
      "합격!\n"
     ]
    }
   ],
   "source": [
    "scores = [90, 25, 67, 45, 80]\n",
    "\n",
    "for i in scores:\n",
    "    if i >= 60:\n",
    "        print(\"합격!\")\n",
    "    if i < 60:\n",
    "        print(\"불합격!\")"
   ]
  },
  {
   "cell_type": "code",
   "execution_count": 17,
   "metadata": {},
   "outputs": [
    {
     "name": "stdout",
     "output_type": "stream",
     "text": [
      "90 합격!\n",
      "67 합격!\n",
      "80 합격!\n"
     ]
    }
   ],
   "source": [
    "scores = [90, 25, 67, 45, 80]\n",
    "\n",
    "for i in scores:\n",
    "    if i < 60: continue\n",
    "    print(i, \"합격!\")"
   ]
  },
  {
   "cell_type": "markdown",
   "metadata": {},
   "source": [
    "### for문과 자주 사용하는 함수"
   ]
  },
  {
   "cell_type": "code",
   "execution_count": 19,
   "metadata": {},
   "outputs": [
    {
     "name": "stdout",
     "output_type": "stream",
     "text": [
      "5\n",
      "6\n",
      "7\n",
      "8\n",
      "9\n"
     ]
    }
   ],
   "source": [
    "for i in range(5,10):\n",
    "    print(i)"
   ]
  },
  {
   "cell_type": "code",
   "execution_count": 20,
   "metadata": {},
   "outputs": [
    {
     "data": {
      "text/plain": [
       "5"
      ]
     },
     "execution_count": 20,
     "metadata": {},
     "output_type": "execute_result"
    }
   ],
   "source": [
    "len(scores)"
   ]
  },
  {
   "cell_type": "code",
   "execution_count": 21,
   "metadata": {},
   "outputs": [
    {
     "data": {
      "text/plain": [
       "range(0, 5)"
      ]
     },
     "execution_count": 21,
     "metadata": {},
     "output_type": "execute_result"
    }
   ],
   "source": [
    "range(len(scores))"
   ]
  },
  {
   "cell_type": "markdown",
   "metadata": {},
   "source": [
    "## for문 lab\n",
    "### 좋아하는 과일 6개를 fruits라는 변수에 리스트로 지정하시오.\n",
    "- 모든 6개 과일을 한 줄씩 출력하시오."
   ]
  },
  {
   "cell_type": "code",
   "execution_count": 67,
   "metadata": {},
   "outputs": [
    {
     "name": "stdout",
     "output_type": "stream",
     "text": [
      "사과\n",
      "배\n",
      "딸기\n",
      "수박\n",
      "포도\n",
      "귤\n"
     ]
    }
   ],
   "source": [
    "fruits = ['사과', '배', '딸기', '수박', '포도', '귤']\n",
    "\n",
    "for i in fruits:\n",
    "    print(i)"
   ]
  },
  {
   "cell_type": "markdown",
   "metadata": {},
   "source": [
    "- fruits에 append 내장함수를 사용하여 복숭아를 추가하시오."
   ]
  },
  {
   "cell_type": "code",
   "execution_count": 68,
   "metadata": {},
   "outputs": [
    {
     "data": {
      "text/plain": [
       "['사과', '배', '딸기', '수박', '포도', '귤', '복숭아']"
      ]
     },
     "execution_count": 68,
     "metadata": {},
     "output_type": "execute_result"
    }
   ],
   "source": [
    "fruits.append('복숭아')\n",
    "fruits"
   ]
  },
  {
   "cell_type": "markdown",
   "metadata": {},
   "source": [
    "- 복숭아 알러지가 있는 사람이 있을 수 있으니 if문을 활용하여 복숭아는 제외하고 출력하도록 하시오."
   ]
  },
  {
   "cell_type": "code",
   "execution_count": 69,
   "metadata": {},
   "outputs": [
    {
     "name": "stdout",
     "output_type": "stream",
     "text": [
      "사과\n",
      "배\n",
      "딸기\n",
      "수박\n",
      "포도\n",
      "귤\n"
     ]
    }
   ],
   "source": [
    "for i in fruits:\n",
    "    if i == '복숭아': continue\n",
    "    print(i)"
   ]
  },
  {
   "cell_type": "code",
   "execution_count": null,
   "metadata": {},
   "outputs": [],
   "source": []
  }
 ],
 "metadata": {
  "kernelspec": {
   "display_name": "Python 3",
   "language": "python",
   "name": "python3"
  },
  "language_info": {
   "codemirror_mode": {
    "name": "ipython",
    "version": 3
   },
   "file_extension": ".py",
   "mimetype": "text/x-python",
   "name": "python",
   "nbconvert_exporter": "python",
   "pygments_lexer": "ipython3",
   "version": "3.6.4"
  }
 },
 "nbformat": 4,
 "nbformat_minor": 2
}
