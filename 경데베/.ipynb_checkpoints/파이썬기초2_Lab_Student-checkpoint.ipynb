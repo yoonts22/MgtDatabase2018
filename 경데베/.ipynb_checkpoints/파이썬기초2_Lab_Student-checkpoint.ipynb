{
 "cells": [
  {
   "cell_type": "markdown",
   "metadata": {},
   "source": [
    "# Jump2Python 3장 Lab"
   ]
  },
  {
   "cell_type": "markdown",
   "metadata": {},
   "source": [
    "## if문 Lab1\n",
    "### 학점에 따라서 우등 졸업 여부가 다음과 같이 결정된다.\n",
    "- GPA >= 4.3\n",
    "    - 최우수졸업생\n",
    "- GPA >= 4.0\n",
    "    - 우수졸업생\n",
    "- GPA >= 2.5\n",
    "    - 졸업생\n",
    "### 내 학점을 실수로 가지고 있는 변수 my_gpa를 생성하고 임의의 학점을 할당하시오.\n",
    "### 예를 들어, 만일 my_gpa값이 4.15이면 다음과 같이 출력이 되도록 프로그램을 작성하시오.\n",
    "    - 당신의 학점은 4.15 입니다.\n",
    "    - 당신은 우수졸업생입니다."
   ]
  },
  {
   "cell_type": "code",
   "execution_count": null,
   "metadata": {},
   "outputs": [],
   "source": [
    "my_gpa = float(input(\"학점 입력: \"))\n",
    "if my_gpa >= 4.3:\n",
    "    print(\"당신의 학점은 {my_gpa} 입니다.\" .format(my_gpa=my_gpa))\n",
    "    print(\"당신은 최우수졸업생입니다.\")\n",
    "elif my_gpa >= 4.0:\n",
    "    print(\"당신의 학점은 {my_gpa} 입니다.\" .format(my_gpa=my_gpa))\n",
    "    print(\"당신은 우수졸업생입니다.\")\n",
    "elif my_gpa >= 2.5:\n",
    "    print(\"당신의 학점은 {my_gpa} 입니다.\" .format(my_gpa=my_gpa))\n",
    "    print(\"당신은 졸업생입니다.\")\n",
    "else:\n",
    "    print(\"당신의 학점은 {my_gpa} 입니다.\" .format(my_gpa=my_gpa))\n",
    "    print(\"당신은 졸업유예생입니다.\")"
   ]
  },
  {
   "cell_type": "markdown",
   "metadata": {},
   "source": [
    "###  만일 my_gpa가 2.5 미만 이면 다음과 같이 출력되도록 하시오\n",
    "    - 당신의 학점은 2.2 입니다.\n",
    "    - 당신은 졸업유예생입니다."
   ]
  },
  {
   "cell_type": "markdown",
   "metadata": {},
   "source": [
    "## While문 Lab 1\n",
    "### 만약 1부터 10까지의 숫자 중에서 짝수만 출력하는 것을 while문을 이용해서 작성해 보자."
   ]
  },
  {
   "cell_type": "code",
   "execution_count": null,
   "metadata": {},
   "outputs": [],
   "source": []
  },
  {
   "cell_type": "markdown",
   "metadata": {},
   "source": [
    "## for문 Lab\n",
    "### 앞서 작성했던 구구단을 for문을 이용하여 작성하시오."
   ]
  },
  {
   "cell_type": "code",
   "execution_count": null,
   "metadata": {},
   "outputs": [],
   "source": []
  }
 ],
 "metadata": {
  "kernelspec": {
   "display_name": "Python 3",
   "language": "python",
   "name": "python3"
  },
  "language_info": {
   "codemirror_mode": {
    "name": "ipython",
    "version": 3
   },
   "file_extension": ".py",
   "mimetype": "text/x-python",
   "name": "python",
   "nbconvert_exporter": "python",
   "pygments_lexer": "ipython3",
   "version": "3.6.4"
  }
 },
 "nbformat": 4,
 "nbformat_minor": 2
}
