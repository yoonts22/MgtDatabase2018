{
 "cells": [
  {
   "cell_type": "markdown",
   "metadata": {},
   "source": [
    "# Jump2Python 2장 Lab"
   ]
  },
  {
   "cell_type": "markdown",
   "metadata": {},
   "source": [
    "## 숫자형 Lab1\n",
    "### 수익 계산\n",
    "- 변수 revenue를 생성 후 98,456 할당\n",
    "- 변수 cost 를 생성 후 45,000 할당\n",
    "- 변수 profit을 생성 후, revenue 와 cost 차이값으로 설정\n",
    "- profit 출력"
   ]
  },
  {
   "cell_type": "code",
   "execution_count": null,
   "metadata": {},
   "outputs": [],
   "source": []
  },
  {
   "cell_type": "markdown",
   "metadata": {},
   "source": [
    "## 숫자형 Lab2\n",
    "### 저축 계좌\n",
    "#### 매년 초에 연간 5% 복리 조건으로 저축계좌에 $100씩 저축하였을 때, 3년 후의 잔고를 계산한다\n",
    "- 변수 balance를 생성한 후 100을 할당\n",
    "- 변수 balance의 값을 5% 증가시킨다\n",
    "- 변수 balance의 값을 5% 증가시킨다\n",
    "- 변수 balance의 값을 5% 증가시킨다\n",
    "- 변수 balance 값을 출력한다"
   ]
  },
  {
   "cell_type": "code",
   "execution_count": null,
   "metadata": {},
   "outputs": [],
   "source": []
  },
  {
   "cell_type": "code",
   "execution_count": null,
   "metadata": {},
   "outputs": [],
   "source": []
  },
  {
   "cell_type": "markdown",
   "metadata": {},
   "source": [
    "#### 동일한 작업을 ** 연산자를 사용해서 수행하시오."
   ]
  },
  {
   "cell_type": "code",
   "execution_count": null,
   "metadata": {},
   "outputs": [],
   "source": []
  },
  {
   "cell_type": "code",
   "execution_count": null,
   "metadata": {},
   "outputs": [],
   "source": []
  },
  {
   "cell_type": "markdown",
   "metadata": {},
   "source": [
    "## 문자열 Lab\n",
    "- 변수 a를 생성하여, 문자열 “I love Python!”을 할당하시오.\n",
    "- 변수 b를 생성하여, 문자열 “You hate Python!”을 할당하시오."
   ]
  },
  {
   "cell_type": "code",
   "execution_count": null,
   "metadata": {},
   "outputs": [],
   "source": []
  },
  {
   "cell_type": "markdown",
   "metadata": {},
   "source": [
    "- a에서 첫 번째 o의 위치를 find( ) 함수를 사용하여 찾으시오.\n",
    "- b에서 첫 번째 o의 위치를 index( ) 함수를 사용하여 찾으시오.\n",
    "- a의 ‘o’ 문자 개수를 세시오."
   ]
  },
  {
   "cell_type": "code",
   "execution_count": null,
   "metadata": {},
   "outputs": [],
   "source": []
  },
  {
   "cell_type": "code",
   "execution_count": null,
   "metadata": {},
   "outputs": [],
   "source": []
  },
  {
   "cell_type": "code",
   "execution_count": null,
   "metadata": {},
   "outputs": [],
   "source": []
  },
  {
   "cell_type": "markdown",
   "metadata": {},
   "source": [
    "- 변수 A에 a를 모두 대문자로 바꾼 문자열을 할당하시오.\n",
    "- 변수 B에 b를 모두 대문자로 바꾼 문자열을 할당하시오."
   ]
  },
  {
   "cell_type": "code",
   "execution_count": null,
   "metadata": {},
   "outputs": [],
   "source": []
  },
  {
   "cell_type": "code",
   "execution_count": null,
   "metadata": {},
   "outputs": [],
   "source": []
  },
  {
   "cell_type": "markdown",
   "metadata": {},
   "source": [
    "- 변수 a_6에 a의 첫 6글자들로 이루어진 부분 문자열을 할당하시오. \n",
    "- 변수 a_end_7에 a의 마지막 7글자들로 이루어진 부분 문자열을 할당하시오.\n",
    "- 변수 b_changed에 변수 b에 “hate”를 “like”로 바꾸어서 할당하시오."
   ]
  },
  {
   "cell_type": "code",
   "execution_count": null,
   "metadata": {},
   "outputs": [],
   "source": []
  },
  {
   "cell_type": "code",
   "execution_count": null,
   "metadata": {},
   "outputs": [],
   "source": []
  },
  {
   "cell_type": "code",
   "execution_count": null,
   "metadata": {},
   "outputs": [],
   "source": []
  },
  {
   "cell_type": "markdown",
   "metadata": {},
   "source": [
    "- 변수 a의 문자열을 공백을 이용하여 나누시오.\n",
    "- 변수 a를 20자리에 오른쪽 정렬을 해서 출력하시오."
   ]
  },
  {
   "cell_type": "code",
   "execution_count": null,
   "metadata": {},
   "outputs": [],
   "source": []
  },
  {
   "cell_type": "code",
   "execution_count": null,
   "metadata": {},
   "outputs": [],
   "source": []
  },
  {
   "cell_type": "markdown",
   "metadata": {},
   "source": [
    "## 포매팅 Lab\n",
    "- 변수 pi를 생성하고 3.14159265를 할당하시오.\n",
    "- 변수 sq_root_2를 생성하고 1.41429를 할당하시오."
   ]
  },
  {
   "cell_type": "code",
   "execution_count": null,
   "metadata": {},
   "outputs": [],
   "source": []
  },
  {
   "cell_type": "markdown",
   "metadata": {},
   "source": [
    "#### 다음의 출력을 포매팅을 사용하여 만드시오.\n",
    "- Pi is 3.1415, and square root of 2 is 1.414."
   ]
  },
  {
   "cell_type": "code",
   "execution_count": null,
   "metadata": {},
   "outputs": [],
   "source": []
  },
  {
   "cell_type": "code",
   "execution_count": null,
   "metadata": {},
   "outputs": [],
   "source": []
  },
  {
   "cell_type": "markdown",
   "metadata": {},
   "source": [
    "#### 숫자의 전체 자리 수를 12자리로 해서, 우측 정렬을 해서 출력하시오.\n",
    "＇Pi is       3.1416, and square root of 2 is       1.4143.‘"
   ]
  },
  {
   "cell_type": "code",
   "execution_count": null,
   "metadata": {},
   "outputs": [],
   "source": []
  },
  {
   "cell_type": "markdown",
   "metadata": {},
   "source": [
    "## 리스트 Lab\n",
    "### 다음을 수행해보시오.\n"
   ]
  },
  {
   "cell_type": "markdown",
   "metadata": {},
   "source": [
    "-  ‘CA’, ‘WA’, ‘AZ’, ‘UT’, ‘CO’ 다섯 개의 주 약어를 가지는 리스트를 생성해서 w_states 변수에 할당하시오.\n",
    "- ‘NJ’, ‘MA’, ‘NY’, ‘VA’, ‘PA’ 다섯 개의 주 약어를 가지는 리스트를 생성해서 e_states 변수에 할당하시오.\n",
    "- w.states를 알파벳 순서로 정렬하시오.\n",
    "- w.states에 네바다 주(‘NV’)를 추가하시오.\n"
   ]
  },
  {
   "cell_type": "code",
   "execution_count": 6,
   "metadata": {},
   "outputs": [
    {
     "name": "stdout",
     "output_type": "stream",
     "text": [
      "['AZ', 'CA', 'CO', 'UT', 'WA']\n",
      "['AZ', 'CA', 'CO', 'UT', 'WA', 'NV']\n"
     ]
    }
   ],
   "source": [
    "w_states = ['CA', 'WA', 'AZ', 'UT', 'CO']\n",
    "e_states = ['NJ', 'MA', 'NY', 'VA', 'PA']\n",
    "w_states.sort()\n",
    "print(w_states)\n",
    "w_states.append('NV')\n",
    "print(w_states)"
   ]
  },
  {
   "cell_type": "markdown",
   "metadata": {},
   "source": [
    "-  두 개의 리스트를 합하여 states 변수에 할당하시오.\n",
    "- states에서 처음부터 5개 원소들로 리스트를 만들어 states_5 변수에 할당하시오.\n",
    "- states에서 뒤에 두 개를 제외한 원소들로 리스트를 만들어서 states_9 변수에 할당하시오.\n",
    "- states에서 ‘CO’의 인덱스를 구하시오."
   ]
  },
  {
   "cell_type": "code",
   "execution_count": 18,
   "metadata": {},
   "outputs": [],
   "source": [
    "states = w_states + e_states\n",
    "states_5 = states[0:5]\n",
    "states_9 = states[:-2]"
   ]
  },
  {
   "cell_type": "code",
   "execution_count": 19,
   "metadata": {},
   "outputs": [
    {
     "data": {
      "text/plain": [
       "['AZ', 'CA', 'CO', 'UT', 'WA']"
      ]
     },
     "execution_count": 19,
     "metadata": {},
     "output_type": "execute_result"
    }
   ],
   "source": [
    "states_5"
   ]
  },
  {
   "cell_type": "code",
   "execution_count": 20,
   "metadata": {},
   "outputs": [
    {
     "data": {
      "text/plain": [
       "['AZ', 'CA', 'CO', 'UT', 'WA', 'NV', 'NJ', 'MA', 'NY']"
      ]
     },
     "execution_count": 20,
     "metadata": {},
     "output_type": "execute_result"
    }
   ],
   "source": [
    "states_9"
   ]
  },
  {
   "cell_type": "code",
   "execution_count": 21,
   "metadata": {},
   "outputs": [
    {
     "data": {
      "text/plain": [
       "2"
      ]
     },
     "execution_count": 21,
     "metadata": {},
     "output_type": "execute_result"
    }
   ],
   "source": [
    "states.index('CO')"
   ]
  },
  {
   "cell_type": "markdown",
   "metadata": {},
   "source": [
    "## 튜플 Lab"
   ]
  },
  {
   "cell_type": "markdown",
   "metadata": {},
   "source": [
    "- 리스트 regions는 4개의 튜플을 가지고 있으며, 각 튜플을 미국 4개 지역의 이름과 인구수(백만 명) 정보를 제공한다.\n",
    "    - “Northeast”, 55.3\n",
    "    - “Midwest”, 66.9\n",
    "    - “South”, 114.6\n",
    "    - “West”, 71.9\n",
    "- 미국 전체 인구는 4지역 인구의 합이다. 미국 전체 인구를 구하시오."
   ]
  },
  {
   "cell_type": "code",
   "execution_count": 46,
   "metadata": {},
   "outputs": [
    {
     "data": {
      "text/plain": [
       "308.70000000000005"
      ]
     },
     "execution_count": 46,
     "metadata": {},
     "output_type": "execute_result"
    }
   ],
   "source": [
    "regions = [('Northeast', 55.3), ('Midwest', 66.9), ('South', 114.6), ('West', 71.9)]\n",
    "sum = regions[0][1] + regions[1][1] + regions[2][1] + regions[3][1]\n",
    "sum"
   ]
  },
  {
   "cell_type": "markdown",
   "metadata": {},
   "source": [
    "- 최종적으로 다음과 같은 출력을 하는 프로그램을 작성하시오. (고급포매팅)\n",
    "    - <결과>\n",
    "        - The population of the Northeast is 55.3 million.\n",
    "        - The population of the midwest is 66.9 million.\n",
    "        - The population of the South is 114.6 million.\n",
    "        - The population of the West is 71.9 million.\n",
    "        - The total population of USA is 308.7 million."
   ]
  },
  {
   "cell_type": "code",
   "execution_count": 47,
   "metadata": {},
   "outputs": [
    {
     "name": "stdout",
     "output_type": "stream",
     "text": [
      "The population of the Northeast is 55.3 million.\n",
      "The population of the Midwest is 66.9 million.\n",
      "The population of the South is 114.6 million.\n",
      "The population of the West is 71.9 million.\n",
      "The total population of USA is 308.70000000000005 million.\n"
     ]
    }
   ],
   "source": [
    "print(\"The population of the {states} is {pop} million.\" .format(states=regions[0][0], pop=regions[0][1]))\n",
    "print(\"The population of the {states} is {pop} million.\" .format(states=regions[1][0], pop=regions[1][1]))\n",
    "print(\"The population of the {states} is {pop} million.\" .format(states=regions[2][0], pop=regions[2][1]))\n",
    "print(\"The population of the {states} is {pop} million.\" .format(states=regions[3][0], pop=regions[3][1]))\n",
    "print(\"The total population of USA is {pop} million.\" .format(pop=sum))"
   ]
  },
  {
   "cell_type": "markdown",
   "metadata": {},
   "source": [
    "## 딕셔너리 Lab\n",
    "-  다음 3 사람의 이름과 전화번호를 딕셔너리로 만드시오. 단 이름은 key로 전화번호는 value로 사용하시오.\n",
    "    - Kim, 010-8888-1234\n",
    "    - Lee, 010-9999-2345\n",
    "    - Park, 010-0001-5432\n",
    "- Kim의 전화번호를 구하시오(인덱스를 사용할 것).\n",
    "- Lee의 전화번호를 get() 함수를 사용하여 구하시오."
   ]
  },
  {
   "cell_type": "code",
   "execution_count": null,
   "metadata": {},
   "outputs": [],
   "source": []
  },
  {
   "cell_type": "markdown",
   "metadata": {},
   "source": [
    "- 다음 사람에 대한 전화번호를 추가하시오.\n",
    "    - Choi, 010-2222-3344\n",
    "- 전체 key들을 리스트로 변환하여 출력하시오.\n",
    "- 전체 value들을 리스트로 변환하여 출력하시오.\n",
    "- ‘You’의 전화번호를 찾으시오. 이름이 없는 경우에는 ‘Not Exist.’를 출력하시오."
   ]
  },
  {
   "cell_type": "markdown",
   "metadata": {},
   "source": [
    "## 집합 Lab\n",
    "- 다음과 같이 두 집합 A, B, C를 생성하시오.\n",
    "    - A = 10보다 작은 홀수의 집합\n",
    "    - B = 12보다 작거나 같은 3의 배수의 집합\n",
    "    - C = 10 보다 작은 소수의 집합\n"
   ]
  },
  {
   "cell_type": "code",
   "execution_count": null,
   "metadata": {},
   "outputs": [],
   "source": []
  },
  {
   "cell_type": "markdown",
   "metadata": {},
   "source": [
    "-  A와 B의 교집합을 구하시오.\n",
    "- A와 C의 교집합을 구하시오.\n",
    "- A∩B∩C를 구하시오.\n",
    "- A와 B의 합집합을 구하시오.\n",
    "- A와 C의 합집합을 구하시오.\n",
    "- AUBUC를 구하시오."
   ]
  },
  {
   "cell_type": "code",
   "execution_count": null,
   "metadata": {},
   "outputs": [],
   "source": []
  },
  {
   "cell_type": "markdown",
   "metadata": {},
   "source": [
    "## 변수 Lab\n",
    "- a에 리스트 [1,2,3]을, b에 리스트 [4,5,6]을 할당하시오.\n",
    "- a와 b를 교환하시오.\n",
    "- [:]을 사용하여 a와 b를 교환하시오(Hint. 중간에 임시 리스트 c를 사용할 것).\n",
    "- copy() 함수를 사용하여 a와 b를 교환하시오(Hint. 중간에 임시 리스트 c를 사용할 것)."
   ]
  },
  {
   "cell_type": "code",
   "execution_count": null,
   "metadata": {},
   "outputs": [],
   "source": []
  }
 ],
 "metadata": {
  "kernelspec": {
   "display_name": "Python 3",
   "language": "python",
   "name": "python3"
  },
  "language_info": {
   "codemirror_mode": {
    "name": "ipython",
    "version": 3
   },
   "file_extension": ".py",
   "mimetype": "text/x-python",
   "name": "python",
   "nbconvert_exporter": "python",
   "pygments_lexer": "ipython3",
   "version": "3.6.4"
  }
 },
 "nbformat": 4,
 "nbformat_minor": 2
}
